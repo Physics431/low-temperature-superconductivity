{
 "cells": [
  {
   "cell_type": "markdown",
   "metadata": {},
   "source": [
    "# Superconductivity Individual Analysis (New calibration template)\n",
    "\n",
    "Use this template to carry out the analysis tasks for the experiment.  For reference, here are links to recommended Python resources: the [Whirlwind Tour of Python](https://jakevdp.github.io/WhirlwindTourOfPython/) and the [Python Data Science Handbook](https://jakevdp.github.io/PythonDataScienceHandbook/) both by Jake VanderPlas.\n",
    "\n",
    "We will be making use of both the [Uncertainties](https://pythonhosted.org/uncertainties/) and [LMFit](https://lmfit.github.io/lmfit-py/) packages in this notebook.\n",
    "\n",
    "#### Updated to show revised analysis procedures\n",
    "\n",
    "As of February 2024, use the steps outlined below if you \n",
    "* Have taken data with the LabVIEW based Chart Recorder application.\n",
    "* Wish to use the ITS-90 coefficients to calculate temperature from the pressure data."
   ]
  },
  {
   "cell_type": "code",
   "execution_count": null,
   "metadata": {},
   "outputs": [],
   "source": [
    "# Run this cell with Shift-Enter, and wait until the asterisk changes to a number, i.e., [*] becomes [1]\n",
    "import numpy as np\n",
    "import scipy.constants as const\n",
    "import uncertainties as unc\n",
    "import uncertainties.unumpy as unp\n",
    "import matplotlib.pyplot as plt\n",
    "import pandas as pd\n",
    "%matplotlib inline"
   ]
  },
  {
   "cell_type": "code",
   "execution_count": null,
   "metadata": {},
   "outputs": [],
   "source": [
    "# Set up plot defaults\n",
    "import matplotlib as mpl\n",
    "mpl.rcParams['figure.figsize'] = 9.0,6.5  # Roughly 9 cm wde by 6.5 cm high\n",
    "mpl.rcParams['font.size'] = 11.0 # Use 11 point font"
   ]
  },
  {
   "cell_type": "markdown",
   "metadata": {},
   "source": [
    "## Prior to working on this notebook:\n",
    "\n",
    "1. Extract the transition points ($I$ through the 5 ohm sensing resistor in voltage units) versus pressure readings ($P$ in voltage units scaled to mmHg, called \"torr\") from the data scans. Make a CSV spreadsheet file with two columns: \"P (torr)\", \"I (volts)\"\n",
    "\n",
    "2. Calculate the temperature in on of two ways:\n",
    "\n",
    "    a. Use the \"1958 He Scale of Temperatures” booklet, or the [online calculator from Quantum Design](https://qdusa.com/support/helium_vapor_pressure.html).\n",
    "    \n",
    "    b. Opt to create a function from the official polynomial fit described in the [International Temperature Scale of 1990 (ITS-90)](https://courses.washington.edu/phys431/superconductivity/ITS-1990_McGlashan_JChemThermo_1990.pdf), to convert the pressure readings to temperature $T$ (K) in the steps below.\n",
    "\n",
    "\n",
    "### Then...\n",
    "4. Import the CSV file of pressure/temperature versus transition points in volts across the current-sense resistor into the directory containing this notebook.\n",
    "\n",
    "5. Create a calibration function to convert measured voltage across the current-sense resistor to magnetic field, using the magnet calibration curve in figure 5 of the (revised in 20204) instructions.\n",
    "\n",
    "6. Apply the calibration function to obtain the transition points in terms of magnetic field in gauss.\n",
    "\n",
    "7. Conduct a similar process if using the ITS-90 scale coefficients to obtain the temperature from the pressure reading.  (If you have already done this by hand, skip this step.)\n",
    "\n",
    "8. Plot $H_c$ vs. $T$.\n",
    "\n",
    "9. Fit the above using two different methods: (A) linearize the data, then fit to a line and obtain the slope and intercept, and (B) fit to the functional form of equation (1) in the instructions.  From both ways of fitting, find the critical temperature at zero field $T_c$ and the critical field at 0K $H_{c0}$.\n",
    "\n",
    "10. Obtain the uncertainties in the results from the fits, and compare them to each other and to the values found in a handbook or text.\n"
   ]
  },
  {
   "cell_type": "markdown",
   "metadata": {},
   "source": [
    "## Import data tables\n",
    "\n",
    "Display them so that you know they are correct.\n",
    "\n",
    "Import $P$ (volts,torr) and/or $T$ (kelvin) and current-sense voltage $I(\\text{volts})$"
   ]
  },
  {
   "cell_type": "code",
   "execution_count": null,
   "metadata": {},
   "outputs": [],
   "source": [
    "Hg_data = pd.read_csv('superconductivity_data_2024.csv')\n",
    "Hg_data"
   ]
  },
  {
   "cell_type": "markdown",
   "metadata": {},
   "source": [
    "Plot the raw data.  Always a good idea to make sure you actually have what you think you have!"
   ]
  },
  {
   "cell_type": "code",
   "execution_count": null,
   "metadata": {},
   "outputs": [],
   "source": [
    "# You code this\n"
   ]
  },
  {
   "cell_type": "markdown",
   "metadata": {},
   "source": [
    "## Make a magnet calibration function\n",
    "\n",
    "Write a function that will convert the transition location in volts to field in gauss.  The Polynomial fit function is shown in the legend of the plot.\n",
    "\n",
    "**Note:** The data are collected in the direction of **decreasing current** (normal to superconducting transition).\n",
    "\n",
    "![Magnet calibration data and fit](magnet_cal_2024.png)"
   ]
  },
  {
   "cell_type": "code",
   "execution_count": null,
   "metadata": {},
   "outputs": [],
   "source": [
    "## Make your calibration function.\n",
    "\n",
    "## Then test it\n",
    "\n",
    "coeffs = [16.9383, 80.8228, 0.4954, -0.1859]\n",
    "\n",
    "def I2B(I, Cn=coeffs):\n",
    "    '''\n",
    "    Magnet calibration functionfor arbitrary polynomial length.\n",
    "    Assumes that lowest index is constant term.\n",
    "    '''\n",
    "    # You code this\n",
    "    \n",
    "    return result\n"
   ]
  },
  {
   "cell_type": "markdown",
   "metadata": {},
   "source": [
    "Overlay the conversion function on the calibration data."
   ]
  },
  {
   "cell_type": "markdown",
   "metadata": {},
   "source": [
    "## Apply the magnet calibration\n",
    "\n",
    "Convert the transition locations to magnetic field."
   ]
  },
  {
   "cell_type": "code",
   "execution_count": null,
   "metadata": {},
   "outputs": [],
   "source": [
    "# Add a column o your data frame.\n",
    "# See the examples for how one can do this.\n"
   ]
  },
  {
   "cell_type": "markdown",
   "metadata": {},
   "source": [
    "## If using [ITS-90 coefficients](https://courses.washington.edu/phys431/superconductivity/ITS-1990_McGlashan_JChemThermo_1990.pdf), make a temperature function\n",
    "\n",
    "Skip this step if you already have found the temperature from the online calculator or old look-up table.\n",
    "\n",
    "Otherwise build a function that converts pressure to temperature from the following formula:\n",
    "\n",
    "$$T/\\text{K} = A_0 + \\sum_{i=1}^{8} A_i\\left[(\\ln(p/\\text{Pa})-B)/C\\right]^i$$\n",
    "\n",
    "NOTE: Pressure must be converted from torr to pascals!\n",
    "\n",
    "The coefficients depend on the pressure.  Helium-4 undergoes a normal to superfluid transition at a particular point called the \"lambda\" point, which is at 31.81661 torr and 2.1768 K.  The vapor pressure curve varies slightly above and below this point.\n",
    "\n",
    "| Coefficient |  $p$ $<$ 31.81661 torr | $p$ $\\ge$ 31.81661 torr |\n",
    "|    :---:    |        ---: |       ---: |\n",
    "|    $A_0$    | 1.392408    | 3.146631   |\n",
    "|    $A_1$    | 0.527153    | 1.357655   |\n",
    "|    $A_2$    | 0.166756    | 0.413923   |\n",
    "|    $A_3$    | 0.050988    | 0.091159   |\n",
    "|    $A_4$    | 0.026514    | 0.016349   |\n",
    "|    $A_5$    | 0.001975    | 0.001826   |\n",
    "|    $A_6$    |-0.017976    |-0.004325   |\n",
    "|    $A_7$    | 0.005409    |-0.004973   |\n",
    "|    $A_8$    | 0.013259    | 0          |\n",
    "|    $B$      | 5.6         | 10.3       |\n",
    "|    $C$      | 2.9         | 1.9        |\n",
    "\n",
    "Below, create your function and test it by feeding in a few values of pressure and checking the temerature output against the values obtained by the [online calculator from Quantum Design](https://qdusa.com/support/helium_vapor_pressure.html).\n",
    "\n",
    "Then apply your function to your array of pressures to obtain the corresponding temperatures.  Don't forget!: your measurements may be in volts, not torr, and the coefficients assume that pressure is in pascals.\n",
    "\n",
    "**ADVICE** \n",
    "\n",
    "Because of the decision that must be made which coefficients to use, it is tricky to make a fuction that will work on a whole NumPy array. But if you use the Uncertainties package version of the math functions, you can make your function propagate the uncertainty in temperature from an uncertainty in the pressure readings. \n",
    "\n",
    "SO: Make your function work on single values (possibly with uncertainty), then use the function in a loop to calculate the temperature values, and build an array with these.  (See the example code on GitHub for how to do this.) "
   ]
  },
  {
   "cell_type": "code",
   "execution_count": null,
   "metadata": {},
   "outputs": [],
   "source": [
    "# Build a DataFrame or pair of arrays from the coefficients\n",
    "\n",
    "# Print them to double-check\n"
   ]
  },
  {
   "cell_type": "code",
   "execution_count": null,
   "metadata": {},
   "outputs": [],
   "source": [
    "# Create the function.  The comments in the function body indicate steps to take.\n",
    "\n",
    "def ITS90_p2T(pressure, p_lambda=31.81661, lowP_coeffs=L_coef, hiP_coeffs=H_coef):\n",
    "    '''\n",
    "    Convert pressure in torr to temperature in Kelvin from the ITS-90 coefficients and formula.\n",
    "    This function is NOT NumPy safe, due to the boolean operation needed to choose the coefficients.\n",
    "    But it can be used with uncertainty objects.\n",
    "    '''\n",
    "    # Convert lambda point to Pa\n",
    "    \n",
    "    # Convert pressure to Pa\n",
    "    \n",
    "    # Make a decision which set of coefficients to use, based on whether\n",
    "    # the pressure is above or below the lambda point.\n",
    "        \n",
    "    # Calculate the argument x in the polynomial x = (ln(p) - B)/C\n",
    "    # if you want to calculate with uncertainties, use unp.log(), othrwise np.log()\n",
    "    \n",
    "    # Build a loop to iterate over x\n",
    "    \n",
    "    # Return the calculated temperature\n",
    "    return T"
   ]
  },
  {
   "cell_type": "markdown",
   "metadata": {},
   "source": [
    "Test your pressure to temperature function.  Feed a few pressure values in, and check the results against the [online calculator from Quantum Design](https://qdusa.com/support/helium_vapor_pressure.html)"
   ]
  },
  {
   "cell_type": "code",
   "execution_count": null,
   "metadata": {},
   "outputs": [],
   "source": [
    "# Recommended pressures: 760 torr should give typical BP of liquid helium at 4.2K.  \n",
    "# Lowest pressure of about 3 torr should give near 1.5K.  Check a few points in between as well\n"
   ]
  },
  {
   "cell_type": "markdown",
   "metadata": {},
   "source": [
    "### Convert $p$ to $T$\n",
    "\n",
    "Apply your conversion to the pressure array.  You may need to make a loop to iterate, (unless you know how to deal with boolean operation in NumPy arrays)"
   ]
  },
  {
   "cell_type": "code",
   "execution_count": null,
   "metadata": {},
   "outputs": [],
   "source": [
    "# Iterate over the pressure array, and build a new array with np.append()\n"
   ]
  },
  {
   "cell_type": "code",
   "execution_count": null,
   "metadata": {},
   "outputs": [],
   "source": [
    "# Add this to the original dataFrame\n"
   ]
  },
  {
   "cell_type": "markdown",
   "metadata": {},
   "source": [
    "## Plot the reduced data set\n",
    "\n",
    "Plot the data (now in applied field versus temperature, or $H_c$ vs. $T$) so that it mirrors the graph shown in figure 1 of the instructions.  If you see peculiar data points, check for mistakes in transcription or other problems."
   ]
  },
  {
   "cell_type": "code",
   "execution_count": null,
   "metadata": {},
   "outputs": [],
   "source": [
    "# You code this\n"
   ]
  },
  {
   "cell_type": "markdown",
   "metadata": {},
   "source": [
    "## Linearize the data\n",
    "\n",
    "Rescale the data so that the relationship between the <i>x</i> and <i>y</i> values is linear.  Use equation (1) in the instructions as a guide:\n",
    "\n",
    "$$H_c(T) = H_{c0}\\left[1 - \\left(\\frac{T}{T_c}\\right)^2\\right]\\quad\\quad\\quad\\quad\\quad(1)$$\n",
    "\n",
    "Then plot the results to confirm."
   ]
  },
  {
   "cell_type": "code",
   "execution_count": null,
   "metadata": {},
   "outputs": [],
   "source": [
    "## Take the temperature values and square them\n",
    "## Example from DataFrame: uT2 = Hg_data['T_90']*Hg_data['T_90']\n",
    "\n",
    "# Then plot the results.  You should see a pretty good straight line.\n"
   ]
  },
  {
   "cell_type": "markdown",
   "metadata": {},
   "source": [
    "## Fit the linearized data\n",
    "\n",
    "Obtain the slope and intercept, plus uncertainty."
   ]
  },
  {
   "cell_type": "code",
   "execution_count": null,
   "metadata": {},
   "outputs": [],
   "source": [
    "# You code this\n",
    "\n"
   ]
  },
  {
   "cell_type": "markdown",
   "metadata": {},
   "source": [
    "## Make a nice big, clear plot\n",
    "\n",
    "Calculate the fit line from eval() and make a large plot, with a grid, data-points with error bars and the fit line on top of the data.  Make sure the fit line goes through both axes so that you can read the critical fiels and critical temperature-squared directly from the plot."
   ]
  },
  {
   "cell_type": "code",
   "execution_count": null,
   "metadata": {},
   "outputs": [],
   "source": [
    "## Make a big plot. Show the fit line going all the way \n",
    "\n"
   ]
  },
  {
   "cell_type": "markdown",
   "metadata": {},
   "source": [
    "## Obtain the critical field and temperature\n",
    "\n",
    "Calculate $H_{c0}$ and $T_c$ from the fit results (with uncertainty)."
   ]
  },
  {
   "cell_type": "code",
   "execution_count": null,
   "metadata": {},
   "outputs": [],
   "source": [
    "# You code this.\n",
    "\n",
    "\n",
    "# print('Results from linearized data fit:')\n",
    "# print('Hc0 = {:.2uP} gauss'.format(uHc0_1))\n",
    "# print('Tc = {:.2uP} K'.format(uTc_1))"
   ]
  },
  {
   "cell_type": "markdown",
   "metadata": {},
   "source": [
    "## Fit the \"unlinearized\" data\n",
    "\n",
    "Use the LMFit `Model()` class to create a non-linear fit function in the form of equation (1).  Then use it to fit the unlinearized data of $H_c$ vs. $T$ directly.  In this version, the fit parameters should be the values of $H_{c0}$ vs. $T_c$.  \n",
    "\n",
    "An example of using the `Model()` class to fit an arbitrary function is given in this notebook: [Example of LMFit Model Custom Function](Example%20LMFit%20Model%20with%20Arbitrary%20Function.ipynb) (The notebook should be in your working subdirectory)."
   ]
  },
  {
   "cell_type": "code",
   "execution_count": null,
   "metadata": {},
   "outputs": [],
   "source": [
    "# Follow the example for a nonlinear fitting function in the example notebook.\n",
    "\n",
    "# You will need to define the function correctly, and also provide staring \n",
    "# values for the critical tempeature and critical field.\n",
    "\n",
    "## Define the fit function\n",
    "\n",
    "## pull in the Model class and set up the fit\n",
    "\n",
    "## First argument is the function name.  The others name the\n",
    "##  adjustable parameters.\n",
    "\n",
    "## Fit and plot\n"
   ]
  },
  {
   "cell_type": "markdown",
   "metadata": {},
   "source": [
    "## Make another big, clear plot\n",
    "\n",
    "Make a nice plot for this type of fit, similar to what you did above, showing the fit line intersecting both axes."
   ]
  },
  {
   "cell_type": "code",
   "execution_count": null,
   "metadata": {},
   "outputs": [],
   "source": [
    "## Make a big plot\n",
    "\n"
   ]
  },
  {
   "cell_type": "markdown",
   "metadata": {},
   "source": [
    "## Compare the fit results\n",
    "\n",
    "Compare the fit results from both procedures to each other: do they agree within their uncertainty?  Do the fit results agree with handbook or text values?  Print the all in a single table for easy comparison."
   ]
  },
  {
   "cell_type": "code",
   "execution_count": null,
   "metadata": {},
   "outputs": [],
   "source": [
    "# Example table\n",
    "#\n",
    "# print('Comparison of fit results:')\n",
    "# print('   Tc (K)   |   Hc0 (G)   ')\n",
    "# print('------------|-------------')\n",
    "# print('{:.2uP} | {:.2uP}     (from linearized data)'.format(uTc_1,uHc0_1))\n",
    "# print('{:.1uP} | {:.2uP}     (from nonlinear fit)'.format(uTc_2,uHc0_2))\n",
    "# print('{:8.2f}    | {:.1f}         (handbook)'.format(4.15,410.0))"
   ]
  },
  {
   "cell_type": "code",
   "execution_count": null,
   "metadata": {},
   "outputs": [],
   "source": []
  }
 ],
 "metadata": {
  "kernelspec": {
   "display_name": "Python 3 (ipykernel)",
   "language": "python",
   "name": "python3"
  },
  "language_info": {
   "codemirror_mode": {
    "name": "ipython",
    "version": 3
   },
   "file_extension": ".py",
   "mimetype": "text/x-python",
   "name": "python",
   "nbconvert_exporter": "python",
   "pygments_lexer": "ipython3",
   "version": "3.9.13"
  }
 },
 "nbformat": 4,
 "nbformat_minor": 2
}
